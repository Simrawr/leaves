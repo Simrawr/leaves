{
  "nbformat": 4,
  "nbformat_minor": 0,
  "metadata": {
    "colab": {
      "provenance": [],
      "gpuType": "T4",
      "mount_file_id": "1xV_adVeUswGbyJisNS9oSLNJ605ZMpLh",
      "authorship_tag": "ABX9TyPsOpX4k+rgLDUIN5K8J42k",
      "include_colab_link": true
    },
    "kernelspec": {
      "name": "python3",
      "display_name": "Python 3"
    },
    "language_info": {
      "name": "python"
    },
    "accelerator": "GPU"
  },
  "cells": [
    {
      "cell_type": "markdown",
      "metadata": {
        "id": "view-in-github",
        "colab_type": "text"
      },
      "source": [
        "<a href=\"https://colab.research.google.com/github/Simrawr/leaves/blob/main/leaf_disease.ipynb\" target=\"_parent\"><img src=\"https://colab.research.google.com/assets/colab-badge.svg\" alt=\"Open In Colab\"/></a>"
      ]
    },
    {
      "cell_type": "code",
      "source": [
        "!pip install torch torchvision"
      ],
      "metadata": {
        "colab": {
          "base_uri": "https://localhost:8080/"
        },
        "id": "yapsxI_Wo0Nv",
        "outputId": "4087fb86-e3e7-40ec-c0ad-1fe5273fe0f2"
      },
      "execution_count": null,
      "outputs": [
        {
          "output_type": "stream",
          "name": "stdout",
          "text": [
            "Looking in indexes: https://pypi.org/simple, https://us-python.pkg.dev/colab-wheels/public/simple/\n",
            "Requirement already satisfied: torch in /usr/local/lib/python3.10/dist-packages (2.0.1+cu118)\n",
            "Requirement already satisfied: torchvision in /usr/local/lib/python3.10/dist-packages (0.15.2+cu118)\n",
            "Requirement already satisfied: filelock in /usr/local/lib/python3.10/dist-packages (from torch) (3.12.0)\n",
            "Requirement already satisfied: typing-extensions in /usr/local/lib/python3.10/dist-packages (from torch) (4.5.0)\n",
            "Requirement already satisfied: sympy in /usr/local/lib/python3.10/dist-packages (from torch) (1.11.1)\n",
            "Requirement already satisfied: networkx in /usr/local/lib/python3.10/dist-packages (from torch) (3.1)\n",
            "Requirement already satisfied: jinja2 in /usr/local/lib/python3.10/dist-packages (from torch) (3.1.2)\n",
            "Requirement already satisfied: triton==2.0.0 in /usr/local/lib/python3.10/dist-packages (from torch) (2.0.0)\n",
            "Requirement already satisfied: cmake in /usr/local/lib/python3.10/dist-packages (from triton==2.0.0->torch) (3.25.2)\n",
            "Requirement already satisfied: lit in /usr/local/lib/python3.10/dist-packages (from triton==2.0.0->torch) (16.0.5)\n",
            "Requirement already satisfied: numpy in /usr/local/lib/python3.10/dist-packages (from torchvision) (1.22.4)\n",
            "Requirement already satisfied: requests in /usr/local/lib/python3.10/dist-packages (from torchvision) (2.27.1)\n",
            "Requirement already satisfied: pillow!=8.3.*,>=5.3.0 in /usr/local/lib/python3.10/dist-packages (from torchvision) (8.4.0)\n",
            "Requirement already satisfied: MarkupSafe>=2.0 in /usr/local/lib/python3.10/dist-packages (from jinja2->torch) (2.1.2)\n",
            "Requirement already satisfied: urllib3<1.27,>=1.21.1 in /usr/local/lib/python3.10/dist-packages (from requests->torchvision) (1.26.15)\n",
            "Requirement already satisfied: certifi>=2017.4.17 in /usr/local/lib/python3.10/dist-packages (from requests->torchvision) (2022.12.7)\n",
            "Requirement already satisfied: charset-normalizer~=2.0.0 in /usr/local/lib/python3.10/dist-packages (from requests->torchvision) (2.0.12)\n",
            "Requirement already satisfied: idna<4,>=2.5 in /usr/local/lib/python3.10/dist-packages (from requests->torchvision) (3.4)\n",
            "Requirement already satisfied: mpmath>=0.19 in /usr/local/lib/python3.10/dist-packages (from sympy->torch) (1.3.0)\n"
          ]
        }
      ]
    },
    {
      "cell_type": "code",
      "source": [
        "import torch\n",
        "print(torch.__version__)"
      ],
      "metadata": {
        "colab": {
          "base_uri": "https://localhost:8080/"
        },
        "id": "NyIvTBFApsb2",
        "outputId": "610be525-f921-45c4-c899-2b9cf36bde4f"
      },
      "execution_count": null,
      "outputs": [
        {
          "output_type": "stream",
          "name": "stdout",
          "text": [
            "2.0.1+cu118\n"
          ]
        }
      ]
    },
    {
      "cell_type": "code",
      "execution_count": null,
      "metadata": {
        "id": "lA0QqvHrcmmy"
      },
      "outputs": [],
      "source": [
        "from torchvision import datasets, transforms, models\n",
        "data_dir = \"data/\"\n"
      ]
    },
    {
      "cell_type": "code",
      "source": [
        "!unzip data.zip"
      ],
      "metadata": {
        "colab": {
          "base_uri": "https://localhost:8080/"
        },
        "id": "WrqKK1MsdCN0",
        "outputId": "f892cd0e-a79e-4a08-95ee-bdd01436b8e3"
      },
      "execution_count": null,
      "outputs": [
        {
          "output_type": "stream",
          "name": "stdout",
          "text": [
            "Archive:  data.zip\n",
            "   creating: data/\n",
            "  inflating: data/.DS_Store          \n",
            "  inflating: __MACOSX/data/._.DS_Store  \n",
            "   creating: data/.tmp.driveupload/\n",
            "   creating: data/train/\n",
            "   creating: data/val/\n",
            "   creating: data/train/leaf/\n",
            "  inflating: data/train/.DS_Store    \n",
            "  inflating: __MACOSX/data/train/._.DS_Store  \n",
            "   creating: data/val/leafy2/\n",
            "  inflating: data/val/.DS_Store      \n",
            "  inflating: __MACOSX/data/val/._.DS_Store  \n",
            "  inflating: data/train/leaf/download.png  \n",
            "  inflating: __MACOSX/data/train/leaf/._download.png  \n",
            "  inflating: data/train/leaf/.DS_Store  \n",
            "  inflating: __MACOSX/data/train/leaf/._.DS_Store  \n",
            "  inflating: data/train/leaf/png-transparent-potato-pests-plant-pathology-disease-blight-potato-plant-leaf-disease-sweet-potato.png  \n",
            "  inflating: __MACOSX/data/train/leaf/._png-transparent-potato-pests-plant-pathology-disease-blight-potato-plant-leaf-disease-sweet-potato.png  \n",
            "  inflating: data/train/leaf/leaf-spots.png  \n",
            "  inflating: __MACOSX/data/train/leaf/._leaf-spots.png  \n",
            "  inflating: data/train/leaf/Disease_severity_on_underside_of_leaf.png  \n",
            "  inflating: __MACOSX/data/train/leaf/._Disease_severity_on_underside_of_leaf.png  \n",
            "  inflating: data/train/leaf/Black-Spot-Diplocarpon-rosae-GettyImages-1097545284.png  \n",
            "  inflating: __MACOSX/data/train/leaf/._Black-Spot-Diplocarpon-rosae-GettyImages-1097545284.png  \n",
            "  inflating: data/train/leaf/plant-leaf-disease-texture-high-res-thumb35.jpeg  \n",
            "  inflating: __MACOSX/data/train/leaf/._plant-leaf-disease-texture-high-res-thumb35.jpeg  \n",
            "  inflating: data/train/leaf/marssonia-leaf-spot-on-euonymus-grabowski.png  \n",
            "  inflating: __MACOSX/data/train/leaf/._marssonia-leaf-spot-on-euonymus-grabowski.png  \n",
            "  inflating: data/train/leaf/anthracnose-1.png  \n",
            "  inflating: __MACOSX/data/train/leaf/._anthracnose-1.png  \n",
            "  inflating: data/train/leaf/BLD_APIPP_0622_9-e1663000680159-540x405.png  \n",
            "  inflating: __MACOSX/data/train/leaf/._BLD_APIPP_0622_9-e1663000680159-540x405.png  \n",
            "  inflating: data/val/leafy2/val2.png  \n",
            "  inflating: __MACOSX/data/val/leafy2/._val2.png  \n",
            "  inflating: data/val/leafy2/val1.png  \n",
            "  inflating: __MACOSX/data/val/leafy2/._val1.png  \n"
          ]
        }
      ]
    },
    {
      "cell_type": "code",
      "source": [
        "train_data = datasets.ImageFolder(data_dir + '/train')\n",
        "val_data = datasets.ImageFolder(data_dir + '/val')"
      ],
      "metadata": {
        "id": "t6j4eavsnwCw"
      },
      "execution_count": null,
      "outputs": []
    },
    {
      "cell_type": "code",
      "source": [
        "train_transforms = transforms.Compose([transforms.RandomRotation(30), #data augumnetation\n",
        "                                       transforms.RandomResizedCrop(224),#resize\n",
        "                                       transforms.RandomHorizontalFlip(), #data augumnetation\n",
        "                                       transforms.ToTensor()])\n",
        "val_transforms = transforms.Compose([transforms.RandomResizedCrop(224), #resize\n",
        "                                      transforms.ToTensor()])\n",
        "train_data = datasets.ImageFolder(data_dir + '/train', transform=train_transforms)\n",
        "val_data = datasets.ImageFolder(data_dir + '/val', transform=val_transforms)\n",
        "train_loader = torch.utils.data.DataLoader(train_data, batch_size=8, shuffle=True)\n",
        "val_loader = torch.utils.data.DataLoader(val_data, batch_size=8)\n",
        "dataiter = iter(train_loader)\n",
        "images, classes  = next(dataiter)\n",
        "print(type(images))\n",
        "print(images.shape)\n",
        "print(classes.shape)"
      ],
      "metadata": {
        "colab": {
          "base_uri": "https://localhost:8080/"
        },
        "id": "4KrH9G81n0Qq",
        "outputId": "1900a085-120f-4947-ca4a-67b208f4e76c"
      },
      "execution_count": 11,
      "outputs": [
        {
          "output_type": "stream",
          "name": "stdout",
          "text": [
            "<class 'torch.Tensor'>\n",
            "torch.Size([8, 3, 224, 224])\n",
            "torch.Size([8])\n"
          ]
        }
      ]
    },
    {
      "cell_type": "code",
      "source": [
        "import torch.nn as nn\n",
        "import numpy as np\n",
        "class CropDetectCNN(nn.Module):\n",
        "    # initialize the class and the parameters\n",
        "    def __init__(self):\n",
        "        super(CropDetectCNN, self).__init__()\n",
        "        \n",
        "        # convolutional layer 1 & max pool layer 1\n",
        "        self.layer1 = nn.Sequential(\n",
        "            nn.Conv2d(3, 16, kernel_size=3),\n",
        "            nn.MaxPool2d(kernel_size=2))\n",
        "        \n",
        "        # convolutional layer 2 & max pool layer 2\n",
        "        self.layer2 = nn.Sequential(\n",
        "            nn.Conv2d(16, 32, kernel_size=3, padding=1, stride=2),\n",
        "            nn.MaxPool2d(kernel_size=2))\n",
        "        \n",
        "        #Fully connected layer\n",
        "        self.fc = nn.Linear(32*28*28, 39)\n",
        "         \n",
        "    # Feed forward the network\n",
        "    def forward(self, x):\n",
        "        out = self.layer1(x)\n",
        "        out = self.layer2(out)\n",
        "        out = out.reshape(out.size(0), -1)\n",
        "        out = self.fc(out)\n",
        "        return out\n",
        "model = CropDetectCNN()\n",
        "print(model)"
      ],
      "metadata": {
        "colab": {
          "base_uri": "https://localhost:8080/"
        },
        "id": "fam8HQk5sgCp",
        "outputId": "0dbca62a-f218-4bcc-fbcb-617008b973f9"
      },
      "execution_count": 12,
      "outputs": [
        {
          "output_type": "stream",
          "name": "stdout",
          "text": [
            "CropDetectCNN(\n",
            "  (layer1): Sequential(\n",
            "    (0): Conv2d(3, 16, kernel_size=(3, 3), stride=(1, 1))\n",
            "    (1): MaxPool2d(kernel_size=2, stride=2, padding=0, dilation=1, ceil_mode=False)\n",
            "  )\n",
            "  (layer2): Sequential(\n",
            "    (0): Conv2d(16, 32, kernel_size=(3, 3), stride=(2, 2), padding=(1, 1))\n",
            "    (1): MaxPool2d(kernel_size=2, stride=2, padding=0, dilation=1, ceil_mode=False)\n",
            "  )\n",
            "  (fc): Linear(in_features=25088, out_features=39, bias=True)\n",
            ")\n"
          ]
        }
      ]
    },
    {
      "cell_type": "code",
      "source": [
        "import torch.optim as optim\n",
        "criterion = nn.CrossEntropyLoss()\n",
        "optimizer = optim.SGD(model.parameters(), lr=0.01)\n"
      ],
      "metadata": {
        "id": "7JxGCAmfsmoi"
      },
      "execution_count": 13,
      "outputs": []
    },
    {
      "cell_type": "code",
      "source": [
        "device = torch.device(\"cuda\" if torch.cuda.is_available() else \"cpu\")"
      ],
      "metadata": {
        "id": "6MavrS6IsrBo"
      },
      "execution_count": 14,
      "outputs": []
    },
    {
      "cell_type": "code",
      "source": [
        "epochs = 1 # run more iterations\n",
        "for epoch in range(epochs):\n",
        "    running_loss = 0\n",
        "    for images, classes in train_loader:\n",
        "        # To device - to transfrom the image and classes to CPU|GPU\n",
        "        images, classes = images.to(device), classes.to(device)\n",
        "        \n",
        "        # clears old gradients from the last step\n",
        "        optimizer.zero_grad()\n",
        "        \n",
        "        # train the images\n",
        "\n",
        "    if torch.cuda.is_available():\n",
        "        model.cuda()\n",
        "        outputs = model(images)\n",
        "        \n",
        "        \n",
        "        #calculate the loss given the outputs and the classes\n",
        "        loss = criterion(outputs, classes)\n",
        "        \n",
        "        # compute the loss of every parameter\n",
        "        loss.backward()\n",
        "        \n",
        "        # apply the optimizer and its parameters\n",
        "        optimizer.step()\n",
        "        \n",
        "        #update the loss\n",
        "        running_loss += loss.item()\n",
        "        \n",
        "    else:\n",
        "        validation_loss = 0\n",
        "        accuracy = 0\n",
        "        \n",
        "        # to make the model run faster we are using the gradients on the train\n",
        "        with torch.no_grad():\n",
        "            # specify that this is validation and not training\n",
        "            model.eval()\n",
        "            for images, classes in val_loader:          \n",
        "                # Use GPU\n",
        "                images, classes = images.to(device), classes.to(device)\n",
        "                \n",
        "                # validate the images\n",
        "                outputs = model(images)\n",
        "                \n",
        "                # compute validation loss\n",
        "                loss = criterion(outputs, classes)\n",
        "                \n",
        "                #update loss\n",
        "                validation_loss += loss.item()\n",
        "                \n",
        "                # get the exponential of the outputs\n",
        "                ps = torch.exp(outputs)\n",
        "                \n",
        "                #Returns the k largest elements of the given input tensor along a given dimension.\n",
        "                top_p, top_class = ps.topk(1, dim=1)\n",
        "                \n",
        "                # reshape the tensor\n",
        "                equals = top_class == classes.view(*top_class.shape)\n",
        "                \n",
        "                # calculate the accuracy.\n",
        "                accuracy += torch.mean(equals.type(torch.FloatTensor))\n",
        "        \n",
        "        # change the mode to train for the next epochs\n",
        "        model.train()\n",
        "        print(\"Epoch: {}/{}.. \".format(epoch+1, epochs),\n",
        "              \"Training Loss: {:.3f}.. \".format(running_loss/len(train_loader)),\n",
        "              \"Valid Loss: {:.3f}.. \".format(validation_loss/len(val_loader)),\n",
        "              \"Valid Accuracy: {:.3f}\".format(accuracy/len(val_loader)))"
      ],
      "metadata": {
        "id": "eMw6mYX2tFdH"
      },
      "execution_count": 25,
      "outputs": []
    },
    {
      "cell_type": "code",
      "source": [
        "model.class_to_idx = train_data.class_to_idx\n",
        "model.class_to_idx.items()"
      ],
      "metadata": {
        "colab": {
          "base_uri": "https://localhost:8080/"
        },
        "id": "923hjuPnOBY7",
        "outputId": "ad71db2a-046f-4f69-d3f7-7cef691a0262"
      },
      "execution_count": 27,
      "outputs": [
        {
          "output_type": "execute_result",
          "data": {
            "text/plain": [
              "dict_items([('leaf', 0)])"
            ]
          },
          "metadata": {},
          "execution_count": 27
        }
      ]
    }
  ]
}